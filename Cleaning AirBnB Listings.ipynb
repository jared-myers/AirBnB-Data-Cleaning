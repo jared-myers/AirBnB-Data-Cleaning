{
 "cells": [
  {
   "cell_type": "markdown",
   "id": "47fd1f4d",
   "metadata": {},
   "source": [
    "# Cleaning AirBnB Listing Data"
   ]
  },
  {
   "cell_type": "code",
   "execution_count": 1,
   "id": "0c3b5d12",
   "metadata": {},
   "outputs": [],
   "source": [
    "import pandas as pd\n",
    "import numpy as np\n",
    "import matplotlib\n",
    "import seaborn as sb\n",
    "import matplotlib.pyplot as plt\n",
    "import matplotlib.cm as cmx\n",
    "import matplotlib.colors as colors\n",
    "import math\n",
    "import pylab\n",
    "import scipy.stats as stats\n",
    "%matplotlib inline"
   ]
  },
  {
   "cell_type": "code",
   "execution_count": 2,
   "id": "97b45371",
   "metadata": {},
   "outputs": [
    {
     "name": "stderr",
     "output_type": "stream",
     "text": [
      "C:\\ProgramData\\Anaconda3\\lib\\site-packages\\IPython\\core\\interactiveshell.py:3441: DtypeWarning: Columns (0,5,22,23,36) have mixed types.Specify dtype option on import or set low_memory=False.\n",
      "  exec(code_obj, self.user_global_ns, self.user_ns)\n"
     ]
    }
   ],
   "source": [
    "cols = [\n",
    "    'id',\n",
    "    'host_id',\n",
    "    'zipcode',\n",
    "    'property_type',\n",
    "    'room_type',\n",
    "    'accommodates',\n",
    "    'bedrooms',\n",
    "    'beds',\n",
    "    'bed_type',\n",
    "    'price',\n",
    "    'number_of_reviews',\n",
    "    'review_scores_rating',\n",
    "    'host_listing_count',\n",
    "    'availability_30',\n",
    "    'minimum_nights',\n",
    "    'bathrooms'\n",
    "]\n",
    "\n",
    "data = pd.read_csv('abnb-listings.csv', usecols=cols)"
   ]
  },
  {
   "cell_type": "code",
   "execution_count": 3,
   "id": "39194c66",
   "metadata": {},
   "outputs": [
    {
     "data": {
      "text/html": [
       "<div>\n",
       "<style scoped>\n",
       "    .dataframe tbody tr th:only-of-type {\n",
       "        vertical-align: middle;\n",
       "    }\n",
       "\n",
       "    .dataframe tbody tr th {\n",
       "        vertical-align: top;\n",
       "    }\n",
       "\n",
       "    .dataframe thead th {\n",
       "        text-align: right;\n",
       "    }\n",
       "</style>\n",
       "<table border=\"1\" class=\"dataframe\">\n",
       "  <thead>\n",
       "    <tr style=\"text-align: right;\">\n",
       "      <th></th>\n",
       "      <th>id</th>\n",
       "      <th>host_id</th>\n",
       "      <th>zipcode</th>\n",
       "      <th>property_type</th>\n",
       "      <th>room_type</th>\n",
       "      <th>accommodates</th>\n",
       "      <th>bathrooms</th>\n",
       "      <th>bedrooms</th>\n",
       "      <th>beds</th>\n",
       "      <th>bed_type</th>\n",
       "      <th>price</th>\n",
       "      <th>minimum_nights</th>\n",
       "      <th>availability_30</th>\n",
       "      <th>number_of_reviews</th>\n",
       "      <th>review_scores_rating</th>\n",
       "      <th>host_listing_count</th>\n",
       "    </tr>\n",
       "  </thead>\n",
       "  <tbody>\n",
       "    <tr>\n",
       "      <th>0</th>\n",
       "      <td>1069266</td>\n",
       "      <td>NaN</td>\n",
       "      <td>NaN</td>\n",
       "      <td>NaN</td>\n",
       "      <td>NaN</td>\n",
       "      <td>NaN</td>\n",
       "      <td>NaN</td>\n",
       "      <td>NaN</td>\n",
       "      <td>NaN</td>\n",
       "      <td>NaN</td>\n",
       "      <td>NaN</td>\n",
       "      <td>NaN</td>\n",
       "      <td>NaN</td>\n",
       "      <td>NaN</td>\n",
       "      <td>NaN</td>\n",
       "      <td>NaN</td>\n",
       "    </tr>\n",
       "    <tr>\n",
       "      <th>1</th>\n",
       "      <td>1846722</td>\n",
       "      <td>2631556.0</td>\n",
       "      <td>NaN</td>\n",
       "      <td>Apartment</td>\n",
       "      <td>Entire home/apt</td>\n",
       "      <td>10.0</td>\n",
       "      <td>1.0</td>\n",
       "      <td>3.0</td>\n",
       "      <td>3.0</td>\n",
       "      <td>Real Bed</td>\n",
       "      <td>$105.00</td>\n",
       "      <td>1.0</td>\n",
       "      <td>28.0</td>\n",
       "      <td>22.0</td>\n",
       "      <td>85.0</td>\n",
       "      <td>2.0</td>\n",
       "    </tr>\n",
       "    <tr>\n",
       "      <th>2</th>\n",
       "      <td>2061725</td>\n",
       "      <td>4601412.0</td>\n",
       "      <td>11221</td>\n",
       "      <td>Apartment</td>\n",
       "      <td>Private room</td>\n",
       "      <td>2.0</td>\n",
       "      <td>1.0</td>\n",
       "      <td>1.0</td>\n",
       "      <td>2.0</td>\n",
       "      <td>Real Bed</td>\n",
       "      <td>$58.00</td>\n",
       "      <td>3.0</td>\n",
       "      <td>4.0</td>\n",
       "      <td>35.0</td>\n",
       "      <td>98.0</td>\n",
       "      <td>4.0</td>\n",
       "    </tr>\n",
       "    <tr>\n",
       "      <th>3</th>\n",
       "      <td>44974</td>\n",
       "      <td>198425.0</td>\n",
       "      <td>10011</td>\n",
       "      <td>Apartment</td>\n",
       "      <td>Entire home/apt</td>\n",
       "      <td>2.0</td>\n",
       "      <td>1.0</td>\n",
       "      <td>1.0</td>\n",
       "      <td>1.0</td>\n",
       "      <td>Real Bed</td>\n",
       "      <td>$185.00</td>\n",
       "      <td>10.0</td>\n",
       "      <td>1.0</td>\n",
       "      <td>26.0</td>\n",
       "      <td>96.0</td>\n",
       "      <td>1.0</td>\n",
       "    </tr>\n",
       "    <tr>\n",
       "      <th>4</th>\n",
       "      <td>4701675</td>\n",
       "      <td>22590025.0</td>\n",
       "      <td>10011</td>\n",
       "      <td>Apartment</td>\n",
       "      <td>Entire home/apt</td>\n",
       "      <td>2.0</td>\n",
       "      <td>1.0</td>\n",
       "      <td>1.0</td>\n",
       "      <td>2.0</td>\n",
       "      <td>Real Bed</td>\n",
       "      <td>$195.00</td>\n",
       "      <td>1.0</td>\n",
       "      <td>30.0</td>\n",
       "      <td>1.0</td>\n",
       "      <td>100.0</td>\n",
       "      <td>1.0</td>\n",
       "    </tr>\n",
       "    <tr>\n",
       "      <th>5</th>\n",
       "      <td>68914</td>\n",
       "      <td>343302.0</td>\n",
       "      <td>11231</td>\n",
       "      <td>Apartment</td>\n",
       "      <td>Entire home/apt</td>\n",
       "      <td>6.0</td>\n",
       "      <td>1.0</td>\n",
       "      <td>2.0</td>\n",
       "      <td>3.0</td>\n",
       "      <td>Real Bed</td>\n",
       "      <td>$165.00</td>\n",
       "      <td>2.0</td>\n",
       "      <td>11.0</td>\n",
       "      <td>16.0</td>\n",
       "      <td>96.0</td>\n",
       "      <td>2.0</td>\n",
       "    </tr>\n",
       "    <tr>\n",
       "      <th>6</th>\n",
       "      <td>4832596</td>\n",
       "      <td>4148973.0</td>\n",
       "      <td>11207</td>\n",
       "      <td>Apartment</td>\n",
       "      <td>Private room</td>\n",
       "      <td>2.0</td>\n",
       "      <td>1.0</td>\n",
       "      <td>1.0</td>\n",
       "      <td>1.0</td>\n",
       "      <td>Real Bed</td>\n",
       "      <td>$80.00</td>\n",
       "      <td>1.0</td>\n",
       "      <td>29.0</td>\n",
       "      <td>0.0</td>\n",
       "      <td>NaN</td>\n",
       "      <td>1.0</td>\n",
       "    </tr>\n",
       "    <tr>\n",
       "      <th>7</th>\n",
       "      <td>2562510</td>\n",
       "      <td>13119459.0</td>\n",
       "      <td>10013</td>\n",
       "      <td>Apartment</td>\n",
       "      <td>Private room</td>\n",
       "      <td>2.0</td>\n",
       "      <td>1.0</td>\n",
       "      <td>1.0</td>\n",
       "      <td>1.0</td>\n",
       "      <td>Real Bed</td>\n",
       "      <td>$120.00</td>\n",
       "      <td>2.0</td>\n",
       "      <td>5.0</td>\n",
       "      <td>0.0</td>\n",
       "      <td>NaN</td>\n",
       "      <td>1.0</td>\n",
       "    </tr>\n",
       "    <tr>\n",
       "      <th>8</th>\n",
       "      <td>3005360</td>\n",
       "      <td>4421803.0</td>\n",
       "      <td>10003</td>\n",
       "      <td>Apartment</td>\n",
       "      <td>Entire home/apt</td>\n",
       "      <td>4.0</td>\n",
       "      <td>1.0</td>\n",
       "      <td>2.0</td>\n",
       "      <td>2.0</td>\n",
       "      <td>Real Bed</td>\n",
       "      <td>$150.00</td>\n",
       "      <td>1.0</td>\n",
       "      <td>30.0</td>\n",
       "      <td>14.0</td>\n",
       "      <td>96.0</td>\n",
       "      <td>4.0</td>\n",
       "    </tr>\n",
       "    <tr>\n",
       "      <th>9</th>\n",
       "      <td>2431607</td>\n",
       "      <td>4973668.0</td>\n",
       "      <td>11221</td>\n",
       "      <td>Apartment</td>\n",
       "      <td>Shared room</td>\n",
       "      <td>2.0</td>\n",
       "      <td>1.0</td>\n",
       "      <td>1.0</td>\n",
       "      <td>1.0</td>\n",
       "      <td>Real Bed</td>\n",
       "      <td>$40.00</td>\n",
       "      <td>4.0</td>\n",
       "      <td>0.0</td>\n",
       "      <td>10.0</td>\n",
       "      <td>94.0</td>\n",
       "      <td>4.0</td>\n",
       "    </tr>\n",
       "  </tbody>\n",
       "</table>\n",
       "</div>"
      ],
      "text/plain": [
       "        id     host_id zipcode property_type        room_type accommodates  \\\n",
       "0  1069266         NaN     NaN           NaN              NaN          NaN   \n",
       "1  1846722   2631556.0     NaN     Apartment  Entire home/apt         10.0   \n",
       "2  2061725   4601412.0   11221     Apartment     Private room          2.0   \n",
       "3    44974    198425.0   10011     Apartment  Entire home/apt          2.0   \n",
       "4  4701675  22590025.0   10011     Apartment  Entire home/apt          2.0   \n",
       "5    68914    343302.0   11231     Apartment  Entire home/apt          6.0   \n",
       "6  4832596   4148973.0   11207     Apartment     Private room          2.0   \n",
       "7  2562510  13119459.0   10013     Apartment     Private room          2.0   \n",
       "8  3005360   4421803.0   10003     Apartment  Entire home/apt          4.0   \n",
       "9  2431607   4973668.0   11221     Apartment      Shared room          2.0   \n",
       "\n",
       "  bathrooms  bedrooms  beds  bed_type     price  minimum_nights  \\\n",
       "0       NaN       NaN   NaN       NaN       NaN             NaN   \n",
       "1       1.0       3.0   3.0  Real Bed  $105.00              1.0   \n",
       "2       1.0       1.0   2.0  Real Bed   $58.00              3.0   \n",
       "3       1.0       1.0   1.0  Real Bed  $185.00             10.0   \n",
       "4       1.0       1.0   2.0  Real Bed  $195.00              1.0   \n",
       "5       1.0       2.0   3.0  Real Bed  $165.00              2.0   \n",
       "6       1.0       1.0   1.0  Real Bed   $80.00              1.0   \n",
       "7       1.0       1.0   1.0  Real Bed  $120.00              2.0   \n",
       "8       1.0       2.0   2.0  Real Bed  $150.00              1.0   \n",
       "9       1.0       1.0   1.0  Real Bed   $40.00              4.0   \n",
       "\n",
       "  availability_30  number_of_reviews  review_scores_rating  host_listing_count  \n",
       "0             NaN                NaN                   NaN                 NaN  \n",
       "1            28.0               22.0                  85.0                 2.0  \n",
       "2             4.0               35.0                  98.0                 4.0  \n",
       "3             1.0               26.0                  96.0                 1.0  \n",
       "4            30.0                1.0                 100.0                 1.0  \n",
       "5            11.0               16.0                  96.0                 2.0  \n",
       "6            29.0                0.0                   NaN                 1.0  \n",
       "7             5.0                0.0                   NaN                 1.0  \n",
       "8            30.0               14.0                  96.0                 4.0  \n",
       "9             0.0               10.0                  94.0                 4.0  "
      ]
     },
     "execution_count": 3,
     "metadata": {},
     "output_type": "execute_result"
    }
   ],
   "source": [
    "data.head(10)"
   ]
  },
  {
   "cell_type": "code",
   "execution_count": 4,
   "id": "7903b3a1",
   "metadata": {},
   "outputs": [
    {
     "data": {
      "text/plain": [
       "168"
      ]
     },
     "execution_count": 4,
     "metadata": {},
     "output_type": "execute_result"
    }
   ],
   "source": [
    "len(data['zipcode'][data.zipcode.isnull()])"
   ]
  },
  {
   "cell_type": "code",
   "execution_count": 5,
   "id": "484f041b",
   "metadata": {},
   "outputs": [
    {
     "name": "stdout",
     "output_type": "stream",
     "text": [
      "id, Num Missing Values: 0\n",
      "host_id, Num Missing Values: 3\n",
      "zipcode, Num Missing Values: 168\n",
      "property_type, Num Missing Values: 13\n",
      "room_type, Num Missing Values: 8\n",
      "accommodates, Num Missing Values: 7\n",
      "bathrooms, Num Missing Values: 469\n",
      "bedrooms, Num Missing Values: 148\n",
      "beds, Num Missing Values: 105\n",
      "bed_type, Num Missing Values: 7\n",
      "price, Num Missing Values: 7\n",
      "minimum_nights, Num Missing Values: 7\n",
      "availability_30, Num Missing Values: 7\n",
      "number_of_reviews, Num Missing Values: 7\n",
      "review_scores_rating, Num Missing Values: 8663\n",
      "host_listing_count, Num Missing Values: 8\n"
     ]
    }
   ],
   "source": [
    "# check the number of missing values in each column\n",
    "for col in data.columns:\n",
    "    print (col + ', Num Missing Values:', len(data[col][data[col].isnull()]))"
   ]
  },
  {
   "cell_type": "markdown",
   "id": "5c09d3d9",
   "metadata": {},
   "source": [
    "### 1. Remove NaN Values"
   ]
  },
  {
   "cell_type": "code",
   "execution_count": 6,
   "id": "98739ac8",
   "metadata": {},
   "outputs": [
    {
     "name": "stdout",
     "output_type": "stream",
     "text": [
      "Number of NaN values removed: 775\n"
     ]
    }
   ],
   "source": [
    "# NaN is acceptable for review_scores_rating\n",
    "origin = len(data)\n",
    "data = data.dropna(how='any', subset=['zipcode', 'property_type', 'bedrooms', 'beds', 'bathrooms', 'accommodates'])\n",
    "print('Number of NaN values removed:', origin - len(data))"
   ]
  },
  {
   "cell_type": "markdown",
   "id": "27daceeb",
   "metadata": {},
   "source": [
    "### 2. Convert String Numbers to Float"
   ]
  },
  {
   "cell_type": "code",
   "execution_count": 7,
   "id": "dd570d88",
   "metadata": {},
   "outputs": [
    {
     "name": "stderr",
     "output_type": "stream",
     "text": [
      "C:\\Users\\juoer\\AppData\\Local\\Temp/ipykernel_12280/1159581109.py:1: FutureWarning: The default value of regex will change from True to False in a future version.\n",
      "  data['price'] = (data['price'].str.replace(r'[^-+\\d.]', '').astype(float))\n"
     ]
    }
   ],
   "source": [
    "data['price'] = (data['price'].str.replace(r'[^-+\\d.]', '').astype(float))"
   ]
  },
  {
   "cell_type": "code",
   "execution_count": 8,
   "id": "41376c61",
   "metadata": {},
   "outputs": [],
   "source": [
    "data['accommodates'] = pd.to_numeric(data['accommodates'])"
   ]
  },
  {
   "cell_type": "markdown",
   "id": "5bef688d",
   "metadata": {},
   "source": [
    "### 3. Drop Invalid Data"
   ]
  },
  {
   "cell_type": "code",
   "execution_count": 9,
   "id": "704217f7",
   "metadata": {},
   "outputs": [
    {
     "name": "stdout",
     "output_type": "stream",
     "text": [
      "Num of Accommodates 0: 0\n",
      "Num of Bedrooms 0: 2321\n",
      "Num of Beds 0: 0\n",
      "Num of Listings w/ Price $0.00: 0\n"
     ]
    }
   ],
   "source": [
    "print ('Num of Accommodates 0:', len(data[data['accommodates'] == 0]))\n",
    "print ('Num of Bedrooms 0:', len(data[data['bedrooms'] == 0]))\n",
    "print ('Num of Beds 0:', len(data[data['beds'] == 0]))\n",
    "print ('Num of Listings w/ Price $0.00:', len(data[data['price'] == 0.00]))\n",
    "\n",
    "data = data[data['accommodates'] != 0]\n",
    "data = data[data['bedrooms'] != 0]\n",
    "data = data[data['beds'] != 0]\n",
    "data = data[data['price'] != 0.00]"
   ]
  },
  {
   "cell_type": "markdown",
   "id": "4acc1731",
   "metadata": {},
   "source": [
    "### 4. Fix Non-Five Digit Zip Codes"
   ]
  },
  {
   "cell_type": "code",
   "execution_count": 10,
   "id": "be1b3f69",
   "metadata": {},
   "outputs": [
    {
     "name": "stderr",
     "output_type": "stream",
     "text": [
      "C:\\Users\\juoer\\AppData\\Local\\Temp/ipykernel_12280/2220809592.py:1: FutureWarning: The default value of regex will change from True to False in a future version.\n",
      "  data['zipcode'] = data['zipcode'].str.replace(r'-\\d+', '')\n"
     ]
    },
    {
     "data": {
      "text/html": [
       "<div>\n",
       "<style scoped>\n",
       "    .dataframe tbody tr th:only-of-type {\n",
       "        vertical-align: middle;\n",
       "    }\n",
       "\n",
       "    .dataframe tbody tr th {\n",
       "        vertical-align: top;\n",
       "    }\n",
       "\n",
       "    .dataframe thead th {\n",
       "        text-align: right;\n",
       "    }\n",
       "</style>\n",
       "<table border=\"1\" class=\"dataframe\">\n",
       "  <thead>\n",
       "    <tr style=\"text-align: right;\">\n",
       "      <th></th>\n",
       "      <th>id</th>\n",
       "      <th>host_id</th>\n",
       "      <th>zipcode</th>\n",
       "      <th>property_type</th>\n",
       "      <th>room_type</th>\n",
       "      <th>accommodates</th>\n",
       "      <th>bathrooms</th>\n",
       "      <th>bedrooms</th>\n",
       "      <th>beds</th>\n",
       "      <th>bed_type</th>\n",
       "      <th>price</th>\n",
       "      <th>minimum_nights</th>\n",
       "      <th>availability_30</th>\n",
       "      <th>number_of_reviews</th>\n",
       "      <th>review_scores_rating</th>\n",
       "      <th>host_listing_count</th>\n",
       "    </tr>\n",
       "  </thead>\n",
       "  <tbody>\n",
       "    <tr>\n",
       "      <th>2</th>\n",
       "      <td>2061725</td>\n",
       "      <td>4601412.0</td>\n",
       "      <td>11221</td>\n",
       "      <td>Apartment</td>\n",
       "      <td>Private room</td>\n",
       "      <td>2.0</td>\n",
       "      <td>1.0</td>\n",
       "      <td>1.0</td>\n",
       "      <td>2.0</td>\n",
       "      <td>Real Bed</td>\n",
       "      <td>58.0</td>\n",
       "      <td>3.0</td>\n",
       "      <td>4.0</td>\n",
       "      <td>35.0</td>\n",
       "      <td>98.0</td>\n",
       "      <td>4.0</td>\n",
       "    </tr>\n",
       "    <tr>\n",
       "      <th>3</th>\n",
       "      <td>44974</td>\n",
       "      <td>198425.0</td>\n",
       "      <td>10011</td>\n",
       "      <td>Apartment</td>\n",
       "      <td>Entire home/apt</td>\n",
       "      <td>2.0</td>\n",
       "      <td>1.0</td>\n",
       "      <td>1.0</td>\n",
       "      <td>1.0</td>\n",
       "      <td>Real Bed</td>\n",
       "      <td>185.0</td>\n",
       "      <td>10.0</td>\n",
       "      <td>1.0</td>\n",
       "      <td>26.0</td>\n",
       "      <td>96.0</td>\n",
       "      <td>1.0</td>\n",
       "    </tr>\n",
       "    <tr>\n",
       "      <th>4</th>\n",
       "      <td>4701675</td>\n",
       "      <td>22590025.0</td>\n",
       "      <td>10011</td>\n",
       "      <td>Apartment</td>\n",
       "      <td>Entire home/apt</td>\n",
       "      <td>2.0</td>\n",
       "      <td>1.0</td>\n",
       "      <td>1.0</td>\n",
       "      <td>2.0</td>\n",
       "      <td>Real Bed</td>\n",
       "      <td>195.0</td>\n",
       "      <td>1.0</td>\n",
       "      <td>30.0</td>\n",
       "      <td>1.0</td>\n",
       "      <td>100.0</td>\n",
       "      <td>1.0</td>\n",
       "    </tr>\n",
       "    <tr>\n",
       "      <th>5</th>\n",
       "      <td>68914</td>\n",
       "      <td>343302.0</td>\n",
       "      <td>11231</td>\n",
       "      <td>Apartment</td>\n",
       "      <td>Entire home/apt</td>\n",
       "      <td>6.0</td>\n",
       "      <td>1.0</td>\n",
       "      <td>2.0</td>\n",
       "      <td>3.0</td>\n",
       "      <td>Real Bed</td>\n",
       "      <td>165.0</td>\n",
       "      <td>2.0</td>\n",
       "      <td>11.0</td>\n",
       "      <td>16.0</td>\n",
       "      <td>96.0</td>\n",
       "      <td>2.0</td>\n",
       "    </tr>\n",
       "    <tr>\n",
       "      <th>6</th>\n",
       "      <td>4832596</td>\n",
       "      <td>4148973.0</td>\n",
       "      <td>11207</td>\n",
       "      <td>Apartment</td>\n",
       "      <td>Private room</td>\n",
       "      <td>2.0</td>\n",
       "      <td>1.0</td>\n",
       "      <td>1.0</td>\n",
       "      <td>1.0</td>\n",
       "      <td>Real Bed</td>\n",
       "      <td>80.0</td>\n",
       "      <td>1.0</td>\n",
       "      <td>29.0</td>\n",
       "      <td>0.0</td>\n",
       "      <td>NaN</td>\n",
       "      <td>1.0</td>\n",
       "    </tr>\n",
       "  </tbody>\n",
       "</table>\n",
       "</div>"
      ],
      "text/plain": [
       "        id     host_id zipcode property_type        room_type  accommodates  \\\n",
       "2  2061725   4601412.0   11221     Apartment     Private room           2.0   \n",
       "3    44974    198425.0   10011     Apartment  Entire home/apt           2.0   \n",
       "4  4701675  22590025.0   10011     Apartment  Entire home/apt           2.0   \n",
       "5    68914    343302.0   11231     Apartment  Entire home/apt           6.0   \n",
       "6  4832596   4148973.0   11207     Apartment     Private room           2.0   \n",
       "\n",
       "  bathrooms  bedrooms  beds  bed_type  price  minimum_nights availability_30  \\\n",
       "2       1.0       1.0   2.0  Real Bed   58.0             3.0             4.0   \n",
       "3       1.0       1.0   1.0  Real Bed  185.0            10.0             1.0   \n",
       "4       1.0       1.0   2.0  Real Bed  195.0             1.0            30.0   \n",
       "5       1.0       2.0   3.0  Real Bed  165.0             2.0            11.0   \n",
       "6       1.0       1.0   1.0  Real Bed   80.0             1.0            29.0   \n",
       "\n",
       "   number_of_reviews  review_scores_rating  host_listing_count  \n",
       "2               35.0                  98.0                 4.0  \n",
       "3               26.0                  96.0                 1.0  \n",
       "4                1.0                 100.0                 1.0  \n",
       "5               16.0                  96.0                 2.0  \n",
       "6                0.0                   NaN                 1.0  "
      ]
     },
     "execution_count": 10,
     "metadata": {},
     "output_type": "execute_result"
    }
   ],
   "source": [
    "data['zipcode'] = data['zipcode'].str.replace(r'-\\d+', '')\n",
    "data.head()"
   ]
  },
  {
   "cell_type": "code",
   "execution_count": 11,
   "id": "4d0ab0a1",
   "metadata": {},
   "outputs": [
    {
     "name": "stdout",
     "output_type": "stream",
     "text": [
      "Num of missing review scores: 7711\n"
     ]
    }
   ],
   "source": [
    "print('Num of missing review scores:', len(data['review_scores_rating'][data['review_scores_rating'].isnull()]))"
   ]
  },
  {
   "cell_type": "markdown",
   "id": "34243f70",
   "metadata": {},
   "source": [
    "### 5. Investigate Distribution Of Accommodates Column"
   ]
  },
  {
   "cell_type": "code",
   "execution_count": 12,
   "id": "cf75f9c7",
   "metadata": {},
   "outputs": [
    {
     "name": "stdout",
     "output_type": "stream",
     "text": [
      "Num of Unique Accomodation:  ['1.0' '10.0' '11.0' '12.0' '13.0' '14.0' '15.0' '16.0' '2.0' '3.0' '4.0'\n",
      " '5.0' '6.0' '7.0' '8.0' '9.0']\n",
      "Accommodation 1: 2642\n",
      "Accommodation 2: 11399\n",
      "Accommodation 3: 2909\n",
      "Accommodation 4: 4278\n",
      "Accommodation 5: 982\n",
      "Accommodation 6: 1214\n",
      "Accommodation 7: 217\n",
      "Accommodation 8: 333\n",
      "Accommodation 9: 57\n",
      "Accommodation 10: 119\n",
      "Accommodation 11: 15\n",
      "Accommodation 12: 43\n",
      "Accommodation 13: 4\n",
      "Accommodation 14: 14\n",
      "Accommodation 15: 5\n",
      "Accommodation 16: 69\n"
     ]
    }
   ],
   "source": [
    "print('Num of Unique Accomodation: ', np.unique(data['accommodates'].astype(str)))\n",
    "for i in range(1, 17):\n",
    "    print('Accommodation {}:'.format(i), len(data[data['accommodates'] == i]))"
   ]
  },
  {
   "cell_type": "code",
   "execution_count": 13,
   "id": "1ced59ae",
   "metadata": {},
   "outputs": [
    {
     "data": {
      "text/plain": [
       "accommodates\n",
       "1.0      2642\n",
       "2.0     11399\n",
       "3.0      2909\n",
       "4.0      4278\n",
       "5.0       982\n",
       "6.0      1214\n",
       "7.0       217\n",
       "8.0       333\n",
       "9.0        57\n",
       "10.0      119\n",
       "11.0       15\n",
       "12.0       43\n",
       "13.0        4\n",
       "14.0       14\n",
       "15.0        5\n",
       "16.0       69\n",
       "Name: id, dtype: int64"
      ]
     },
     "execution_count": 13,
     "metadata": {},
     "output_type": "execute_result"
    }
   ],
   "source": [
    "data.groupby('accommodates').agg('count')['id']"
   ]
  },
  {
   "cell_type": "markdown",
   "id": "fa38c360",
   "metadata": {},
   "source": [
    "### 6. Distribution of price, accommdates, beds, and review_scores_rating\n"
   ]
  },
  {
   "cell_type": "code",
   "execution_count": 14,
   "id": "dc5bc713",
   "metadata": {},
   "outputs": [
    {
     "data": {
      "text/plain": [
       "2    2.0\n",
       "3    2.0\n",
       "4    2.0\n",
       "5    6.0\n",
       "6    2.0\n",
       "Name: accommodates, dtype: float64"
      ]
     },
     "execution_count": 14,
     "metadata": {},
     "output_type": "execute_result"
    }
   ],
   "source": [
    "data['accommodates'].head()"
   ]
  },
  {
   "cell_type": "code",
   "execution_count": 15,
   "id": "5e617b87",
   "metadata": {},
   "outputs": [
    {
     "data": {
      "image/png": "[encoded data removed]",
      "text/plain": [
       "<Figure size 432x288 with 1 Axes>"
      ]
     },
     "metadata": {
      "needs_background": "light"
     },
     "output_type": "display_data"
    }
   ],
   "source": [
    "plt.hist(data['accommodates'].astype(str), bins=50)\n",
    "plt.title(\"Histogram of Accommodations\")\n",
    "plt.xlabel(\"Number of Accommodations\")\n",
    "plt.ylabel(\"Frequency\")\n",
    "plt.show()"
   ]
  },
  {
   "cell_type": "markdown",
   "id": "bddc23d0",
   "metadata": {},
   "source": [
    "A majority of listings have accomodations for 2-4 people. Each bed typically counts for accomodating 2 people. Plotting beds may be more useful for analyzing how many listings are single bedrooms."
   ]
  },
  {
   "cell_type": "code",
   "execution_count": 17,
   "id": "e2b6593d",
   "metadata": {},
   "outputs": [
    {
     "name": "stdout",
     "output_type": "stream",
     "text": [
      "Number of Unique Beds:  [ 1.  2.  3.  4.  5.  6.  7.  8.  9. 10. 11. 12. 13. 14. 16.]\n",
      "Beds 1: 16000\n",
      "Beds 2: 5418\n",
      "Beds 3: 1770\n",
      "Beds 4: 610\n",
      "Beds 5: 243\n",
      "Beds 6: 117\n",
      "Beds 7: 41\n",
      "Beds 8: 22\n",
      "Beds 9: 3\n",
      "Beds 10: 20\n",
      "Beds 11: 4\n",
      "Beds 12: 9\n",
      "Beds 13: 1\n",
      "Beds 14: 15\n",
      "Beds 15: 0\n",
      "Beds 16: 27\n"
     ]
    }
   ],
   "source": [
    "# distribution of beds\n",
    "print('Number of Unique Beds: ', np.unique(data['beds']))\n",
    "for i in range(1, 17):\n",
    "    print('Beds {}:'.format(i), len(data[data['beds'] == i]))"
   ]
  },
  {
   "cell_type": "code",
   "execution_count": 19,
   "id": "343fe126",
   "metadata": {},
   "outputs": [
    {
     "data": {
      "image/png": "[encoded data removed]",
      "text/plain": [
       "<Figure size 432x288 with 1 Axes>"
      ]
     },
     "metadata": {
      "needs_background": "light"
     },
     "output_type": "display_data"
    }
   ],
   "source": [
    "# Distribution for bed\n",
    "plt.hist(data['beds'], rwidth=1, bins=50)\n",
    "plt.title(\"Histogram of Beds\")\n",
    "plt.xlabel(\"Bed Count\")\n",
    "plt.ylabel(\"Frequency\")\n",
    "plt.show()"
   ]
  },
  {
   "cell_type": "code",
   "execution_count": 20,
   "id": "a31f713e",
   "metadata": {},
   "outputs": [
    {
     "data": {
      "image/png": "[encoded data removed]",
      "text/plain": [
       "<Figure size 432x288 with 1 Axes>"
      ]
     },
     "metadata": {
      "needs_background": "light"
     },
     "output_type": "display_data"
    }
   ],
   "source": [
    "# Distribution for review score rating\n",
    "plt.hist(data['review_scores_rating'][~data['review_scores_rating'].isnull()], rwidth=0.7)\n",
    "plt.title(\"Histogram of Review Scores Ratings\")\n",
    "plt.xlabel(\"Review Score\")\n",
    "plt.ylabel(\"Frequency\")\n",
    "plt.show()"
   ]
  },
  {
   "cell_type": "markdown",
   "id": "e6e114e7",
   "metadata": {},
   "source": [
    "### 7. Change NaN score with 0 reviews to 'No Reviews'"
   ]
  },
  {
   "cell_type": "code",
   "execution_count": 21,
   "id": "f0babba2",
   "metadata": {},
   "outputs": [
    {
     "data": {
      "text/html": [
       "<div>\n",
       "<style scoped>\n",
       "    .dataframe tbody tr th:only-of-type {\n",
       "        vertical-align: middle;\n",
       "    }\n",
       "\n",
       "    .dataframe tbody tr th {\n",
       "        vertical-align: top;\n",
       "    }\n",
       "\n",
       "    .dataframe thead th {\n",
       "        text-align: right;\n",
       "    }\n",
       "</style>\n",
       "<table border=\"1\" class=\"dataframe\">\n",
       "  <thead>\n",
       "    <tr style=\"text-align: right;\">\n",
       "      <th></th>\n",
       "      <th>id</th>\n",
       "      <th>host_id</th>\n",
       "      <th>zipcode</th>\n",
       "      <th>property_type</th>\n",
       "      <th>room_type</th>\n",
       "      <th>accommodates</th>\n",
       "      <th>bathrooms</th>\n",
       "      <th>bedrooms</th>\n",
       "      <th>beds</th>\n",
       "      <th>bed_type</th>\n",
       "      <th>price</th>\n",
       "      <th>minimum_nights</th>\n",
       "      <th>availability_30</th>\n",
       "      <th>number_of_reviews</th>\n",
       "      <th>review_scores_rating</th>\n",
       "      <th>host_listing_count</th>\n",
       "    </tr>\n",
       "  </thead>\n",
       "  <tbody>\n",
       "    <tr>\n",
       "      <th>2</th>\n",
       "      <td>2061725</td>\n",
       "      <td>4601412.0</td>\n",
       "      <td>11221</td>\n",
       "      <td>Apartment</td>\n",
       "      <td>Private room</td>\n",
       "      <td>2.0</td>\n",
       "      <td>1.0</td>\n",
       "      <td>1.0</td>\n",
       "      <td>2.0</td>\n",
       "      <td>Real Bed</td>\n",
       "      <td>58.0</td>\n",
       "      <td>3.0</td>\n",
       "      <td>4.0</td>\n",
       "      <td>35.0</td>\n",
       "      <td>98.0</td>\n",
       "      <td>4.0</td>\n",
       "    </tr>\n",
       "    <tr>\n",
       "      <th>3</th>\n",
       "      <td>44974</td>\n",
       "      <td>198425.0</td>\n",
       "      <td>10011</td>\n",
       "      <td>Apartment</td>\n",
       "      <td>Entire home/apt</td>\n",
       "      <td>2.0</td>\n",
       "      <td>1.0</td>\n",
       "      <td>1.0</td>\n",
       "      <td>1.0</td>\n",
       "      <td>Real Bed</td>\n",
       "      <td>185.0</td>\n",
       "      <td>10.0</td>\n",
       "      <td>1.0</td>\n",
       "      <td>26.0</td>\n",
       "      <td>96.0</td>\n",
       "      <td>1.0</td>\n",
       "    </tr>\n",
       "    <tr>\n",
       "      <th>4</th>\n",
       "      <td>4701675</td>\n",
       "      <td>22590025.0</td>\n",
       "      <td>10011</td>\n",
       "      <td>Apartment</td>\n",
       "      <td>Entire home/apt</td>\n",
       "      <td>2.0</td>\n",
       "      <td>1.0</td>\n",
       "      <td>1.0</td>\n",
       "      <td>2.0</td>\n",
       "      <td>Real Bed</td>\n",
       "      <td>195.0</td>\n",
       "      <td>1.0</td>\n",
       "      <td>30.0</td>\n",
       "      <td>1.0</td>\n",
       "      <td>100.0</td>\n",
       "      <td>1.0</td>\n",
       "    </tr>\n",
       "    <tr>\n",
       "      <th>5</th>\n",
       "      <td>68914</td>\n",
       "      <td>343302.0</td>\n",
       "      <td>11231</td>\n",
       "      <td>Apartment</td>\n",
       "      <td>Entire home/apt</td>\n",
       "      <td>6.0</td>\n",
       "      <td>1.0</td>\n",
       "      <td>2.0</td>\n",
       "      <td>3.0</td>\n",
       "      <td>Real Bed</td>\n",
       "      <td>165.0</td>\n",
       "      <td>2.0</td>\n",
       "      <td>11.0</td>\n",
       "      <td>16.0</td>\n",
       "      <td>96.0</td>\n",
       "      <td>2.0</td>\n",
       "    </tr>\n",
       "    <tr>\n",
       "      <th>6</th>\n",
       "      <td>4832596</td>\n",
       "      <td>4148973.0</td>\n",
       "      <td>11207</td>\n",
       "      <td>Apartment</td>\n",
       "      <td>Private room</td>\n",
       "      <td>2.0</td>\n",
       "      <td>1.0</td>\n",
       "      <td>1.0</td>\n",
       "      <td>1.0</td>\n",
       "      <td>Real Bed</td>\n",
       "      <td>80.0</td>\n",
       "      <td>1.0</td>\n",
       "      <td>29.0</td>\n",
       "      <td>0.0</td>\n",
       "      <td>No Reviews</td>\n",
       "      <td>1.0</td>\n",
       "    </tr>\n",
       "    <tr>\n",
       "      <th>7</th>\n",
       "      <td>2562510</td>\n",
       "      <td>13119459.0</td>\n",
       "      <td>10013</td>\n",
       "      <td>Apartment</td>\n",
       "      <td>Private room</td>\n",
       "      <td>2.0</td>\n",
       "      <td>1.0</td>\n",
       "      <td>1.0</td>\n",
       "      <td>1.0</td>\n",
       "      <td>Real Bed</td>\n",
       "      <td>120.0</td>\n",
       "      <td>2.0</td>\n",
       "      <td>5.0</td>\n",
       "      <td>0.0</td>\n",
       "      <td>No Reviews</td>\n",
       "      <td>1.0</td>\n",
       "    </tr>\n",
       "    <tr>\n",
       "      <th>8</th>\n",
       "      <td>3005360</td>\n",
       "      <td>4421803.0</td>\n",
       "      <td>10003</td>\n",
       "      <td>Apartment</td>\n",
       "      <td>Entire home/apt</td>\n",
       "      <td>4.0</td>\n",
       "      <td>1.0</td>\n",
       "      <td>2.0</td>\n",
       "      <td>2.0</td>\n",
       "      <td>Real Bed</td>\n",
       "      <td>150.0</td>\n",
       "      <td>1.0</td>\n",
       "      <td>30.0</td>\n",
       "      <td>14.0</td>\n",
       "      <td>96.0</td>\n",
       "      <td>4.0</td>\n",
       "    </tr>\n",
       "    <tr>\n",
       "      <th>9</th>\n",
       "      <td>2431607</td>\n",
       "      <td>4973668.0</td>\n",
       "      <td>11221</td>\n",
       "      <td>Apartment</td>\n",
       "      <td>Shared room</td>\n",
       "      <td>2.0</td>\n",
       "      <td>1.0</td>\n",
       "      <td>1.0</td>\n",
       "      <td>1.0</td>\n",
       "      <td>Real Bed</td>\n",
       "      <td>40.0</td>\n",
       "      <td>4.0</td>\n",
       "      <td>0.0</td>\n",
       "      <td>10.0</td>\n",
       "      <td>94.0</td>\n",
       "      <td>4.0</td>\n",
       "    </tr>\n",
       "    <tr>\n",
       "      <th>11</th>\n",
       "      <td>4833061</td>\n",
       "      <td>24879430.0</td>\n",
       "      <td>11221</td>\n",
       "      <td>Apartment</td>\n",
       "      <td>Private room</td>\n",
       "      <td>2.0</td>\n",
       "      <td>1.0</td>\n",
       "      <td>1.0</td>\n",
       "      <td>1.0</td>\n",
       "      <td>Real Bed</td>\n",
       "      <td>75.0</td>\n",
       "      <td>1.0</td>\n",
       "      <td>2.0</td>\n",
       "      <td>0.0</td>\n",
       "      <td>No Reviews</td>\n",
       "      <td>1.0</td>\n",
       "    </tr>\n",
       "    <tr>\n",
       "      <th>12</th>\n",
       "      <td>234327</td>\n",
       "      <td>652642.0</td>\n",
       "      <td>10018</td>\n",
       "      <td>Apartment</td>\n",
       "      <td>Shared room</td>\n",
       "      <td>4.0</td>\n",
       "      <td>1.0</td>\n",
       "      <td>1.0</td>\n",
       "      <td>4.0</td>\n",
       "      <td>Real Bed</td>\n",
       "      <td>80.0</td>\n",
       "      <td>3.0</td>\n",
       "      <td>30.0</td>\n",
       "      <td>7.0</td>\n",
       "      <td>80.0</td>\n",
       "      <td>25.0</td>\n",
       "    </tr>\n",
       "  </tbody>\n",
       "</table>\n",
       "</div>"
      ],
      "text/plain": [
       "         id     host_id zipcode property_type        room_type  accommodates  \\\n",
       "2   2061725   4601412.0   11221     Apartment     Private room           2.0   \n",
       "3     44974    198425.0   10011     Apartment  Entire home/apt           2.0   \n",
       "4   4701675  22590025.0   10011     Apartment  Entire home/apt           2.0   \n",
       "5     68914    343302.0   11231     Apartment  Entire home/apt           6.0   \n",
       "6   4832596   4148973.0   11207     Apartment     Private room           2.0   \n",
       "7   2562510  13119459.0   10013     Apartment     Private room           2.0   \n",
       "8   3005360   4421803.0   10003     Apartment  Entire home/apt           4.0   \n",
       "9   2431607   4973668.0   11221     Apartment      Shared room           2.0   \n",
       "11  4833061  24879430.0   11221     Apartment     Private room           2.0   \n",
       "12   234327    652642.0   10018     Apartment      Shared room           4.0   \n",
       "\n",
       "   bathrooms  bedrooms  beds  bed_type  price  minimum_nights availability_30  \\\n",
       "2        1.0       1.0   2.0  Real Bed   58.0             3.0             4.0   \n",
       "3        1.0       1.0   1.0  Real Bed  185.0            10.0             1.0   \n",
       "4        1.0       1.0   2.0  Real Bed  195.0             1.0            30.0   \n",
       "5        1.0       2.0   3.0  Real Bed  165.0             2.0            11.0   \n",
       "6        1.0       1.0   1.0  Real Bed   80.0             1.0            29.0   \n",
       "7        1.0       1.0   1.0  Real Bed  120.0             2.0             5.0   \n",
       "8        1.0       2.0   2.0  Real Bed  150.0             1.0            30.0   \n",
       "9        1.0       1.0   1.0  Real Bed   40.0             4.0             0.0   \n",
       "11       1.0       1.0   1.0  Real Bed   75.0             1.0             2.0   \n",
       "12       1.0       1.0   4.0  Real Bed   80.0             3.0            30.0   \n",
       "\n",
       "    number_of_reviews review_scores_rating  host_listing_count  \n",
       "2                35.0                 98.0                 4.0  \n",
       "3                26.0                 96.0                 1.0  \n",
       "4                 1.0                100.0                 1.0  \n",
       "5                16.0                 96.0                 2.0  \n",
       "6                 0.0           No Reviews                 1.0  \n",
       "7                 0.0           No Reviews                 1.0  \n",
       "8                14.0                 96.0                 4.0  \n",
       "9                10.0                 94.0                 4.0  \n",
       "11                0.0           No Reviews                 1.0  \n",
       "12                7.0                 80.0                25.0  "
      ]
     },
     "execution_count": 21,
     "metadata": {},
     "output_type": "execute_result"
    }
   ],
   "source": [
    "idx_vals = data['review_scores_rating'][data['number_of_reviews'] == 0].index.values.tolist()\n",
    "data.loc[idx_vals, 'review_scores_rating'] = data['review_scores_rating'][data['number_of_reviews'] == 0].replace(np.nan, 'No Reviews')\n",
    "data.head(10)"
   ]
  },
  {
   "cell_type": "code",
   "execution_count": 22,
   "id": "51d26a4e",
   "metadata": {},
   "outputs": [
    {
     "data": {
      "text/plain": [
       "24051"
      ]
     },
     "execution_count": 22,
     "metadata": {},
     "output_type": "execute_result"
    }
   ],
   "source": [
    "# There are some incosistent NaN values that need to be removed\n",
    "data = data[~data['review_scores_rating'].isnull()]\n",
    "len(data)"
   ]
  },
  {
   "cell_type": "code",
   "execution_count": 23,
   "id": "4d8dce03",
   "metadata": {},
   "outputs": [
    {
     "data": {
      "text/plain": [
       "24048"
      ]
     },
     "execution_count": 23,
     "metadata": {},
     "output_type": "execute_result"
    }
   ],
   "source": [
    "# Check zip code length\n",
    "data = data[data['zipcode'].map(len) == 5]\n",
    "len(data)"
   ]
  },
  {
   "cell_type": "code",
   "execution_count": 24,
   "id": "7464638f",
   "metadata": {},
   "outputs": [],
   "source": [
    "data = data[data['zipcode'].apply(len) == 5]"
   ]
  },
  {
   "cell_type": "markdown",
   "id": "f1bdbba5",
   "metadata": {},
   "source": [
    "### 8. Bucket Review Scores\n"
   ]
  },
  {
   "cell_type": "code",
   "execution_count": 25,
   "id": "b7b5bc2c",
   "metadata": {},
   "outputs": [],
   "source": [
    "def convert_scores_buckets(val):\n",
    "    if val == 'No Reviews':\n",
    "        return 'No Reviews'\n",
    "    elif val >= 95.0:\n",
    "        return '95-100'\n",
    "    elif val >= 90.0 and val < 95.0:\n",
    "        return '90-94'\n",
    "    elif val >= 85.0 and val < 90.0:\n",
    "        return '85-89'\n",
    "    elif val >= 80.0 and val < 85.0:\n",
    "        return '80-84'\n",
    "    elif val >= 70.0 and val < 80.0:\n",
    "        return '70-79'\n",
    "    elif val >= 60.0 and val < 70.0:\n",
    "        return '60-69'\n",
    "    elif val >= 50.0 and val < 60.0:\n",
    "        return '50-59'\n",
    "    elif val >= 40.0 and val < 50.0:\n",
    "        return '40-49'\n",
    "    elif val >= 30.0 and val < 40.0:\n",
    "        return '30-39'\n",
    "    elif val >= 20.0 and val < 30.0:\n",
    "        return '20-29'\n",
    "    elif val >= 10.0 and val < 20.0:\n",
    "        return '10-19'\n",
    "    elif val < 10.0:\n",
    "        return '0-9'"
   ]
  },
  {
   "cell_type": "code",
   "execution_count": 26,
   "id": "c75ead04",
   "metadata": {},
   "outputs": [
    {
     "name": "stdout",
     "output_type": "stream",
     "text": [
      "Unique Values in the Column: ['20-29' '30-39' '40-49' '50-59' '60-69' '70-79' '80-84' '85-89' '90-94'\n",
      " '95-100' 'No Reviews']\n"
     ]
    }
   ],
   "source": [
    "data['review_scores_rating'] = data['review_scores_rating'].apply(convert_scores_buckets)\n",
    "print ('Unique Values in the Column:', np.unique(data['review_scores_rating']))"
   ]
  },
  {
   "cell_type": "code",
   "execution_count": 27,
   "id": "6b319a12",
   "metadata": {},
   "outputs": [
    {
     "data": {
      "text/html": [
       "<div>\n",
       "<style scoped>\n",
       "    .dataframe tbody tr th:only-of-type {\n",
       "        vertical-align: middle;\n",
       "    }\n",
       "\n",
       "    .dataframe tbody tr th {\n",
       "        vertical-align: top;\n",
       "    }\n",
       "\n",
       "    .dataframe thead th {\n",
       "        text-align: right;\n",
       "    }\n",
       "</style>\n",
       "<table border=\"1\" class=\"dataframe\">\n",
       "  <thead>\n",
       "    <tr style=\"text-align: right;\">\n",
       "      <th></th>\n",
       "      <th>id</th>\n",
       "      <th>host_id</th>\n",
       "      <th>zipcode</th>\n",
       "      <th>property_type</th>\n",
       "      <th>room_type</th>\n",
       "      <th>accommodates</th>\n",
       "      <th>bathrooms</th>\n",
       "      <th>bedrooms</th>\n",
       "      <th>beds</th>\n",
       "      <th>bed_type</th>\n",
       "      <th>price</th>\n",
       "      <th>minimum_nights</th>\n",
       "      <th>availability_30</th>\n",
       "      <th>number_of_reviews</th>\n",
       "      <th>review_scores_rating</th>\n",
       "      <th>host_listing_count</th>\n",
       "    </tr>\n",
       "  </thead>\n",
       "  <tbody>\n",
       "    <tr>\n",
       "      <th>2</th>\n",
       "      <td>2061725</td>\n",
       "      <td>4601412.0</td>\n",
       "      <td>11221</td>\n",
       "      <td>Apartment</td>\n",
       "      <td>Private room</td>\n",
       "      <td>2.0</td>\n",
       "      <td>1.0</td>\n",
       "      <td>1.0</td>\n",
       "      <td>2.0</td>\n",
       "      <td>Real Bed</td>\n",
       "      <td>58.0</td>\n",
       "      <td>3.0</td>\n",
       "      <td>4.0</td>\n",
       "      <td>35.0</td>\n",
       "      <td>95-100</td>\n",
       "      <td>4.0</td>\n",
       "    </tr>\n",
       "    <tr>\n",
       "      <th>3</th>\n",
       "      <td>44974</td>\n",
       "      <td>198425.0</td>\n",
       "      <td>10011</td>\n",
       "      <td>Apartment</td>\n",
       "      <td>Entire home/apt</td>\n",
       "      <td>2.0</td>\n",
       "      <td>1.0</td>\n",
       "      <td>1.0</td>\n",
       "      <td>1.0</td>\n",
       "      <td>Real Bed</td>\n",
       "      <td>185.0</td>\n",
       "      <td>10.0</td>\n",
       "      <td>1.0</td>\n",
       "      <td>26.0</td>\n",
       "      <td>95-100</td>\n",
       "      <td>1.0</td>\n",
       "    </tr>\n",
       "    <tr>\n",
       "      <th>4</th>\n",
       "      <td>4701675</td>\n",
       "      <td>22590025.0</td>\n",
       "      <td>10011</td>\n",
       "      <td>Apartment</td>\n",
       "      <td>Entire home/apt</td>\n",
       "      <td>2.0</td>\n",
       "      <td>1.0</td>\n",
       "      <td>1.0</td>\n",
       "      <td>2.0</td>\n",
       "      <td>Real Bed</td>\n",
       "      <td>195.0</td>\n",
       "      <td>1.0</td>\n",
       "      <td>30.0</td>\n",
       "      <td>1.0</td>\n",
       "      <td>95-100</td>\n",
       "      <td>1.0</td>\n",
       "    </tr>\n",
       "    <tr>\n",
       "      <th>5</th>\n",
       "      <td>68914</td>\n",
       "      <td>343302.0</td>\n",
       "      <td>11231</td>\n",
       "      <td>Apartment</td>\n",
       "      <td>Entire home/apt</td>\n",
       "      <td>6.0</td>\n",
       "      <td>1.0</td>\n",
       "      <td>2.0</td>\n",
       "      <td>3.0</td>\n",
       "      <td>Real Bed</td>\n",
       "      <td>165.0</td>\n",
       "      <td>2.0</td>\n",
       "      <td>11.0</td>\n",
       "      <td>16.0</td>\n",
       "      <td>95-100</td>\n",
       "      <td>2.0</td>\n",
       "    </tr>\n",
       "    <tr>\n",
       "      <th>6</th>\n",
       "      <td>4832596</td>\n",
       "      <td>4148973.0</td>\n",
       "      <td>11207</td>\n",
       "      <td>Apartment</td>\n",
       "      <td>Private room</td>\n",
       "      <td>2.0</td>\n",
       "      <td>1.0</td>\n",
       "      <td>1.0</td>\n",
       "      <td>1.0</td>\n",
       "      <td>Real Bed</td>\n",
       "      <td>80.0</td>\n",
       "      <td>1.0</td>\n",
       "      <td>29.0</td>\n",
       "      <td>0.0</td>\n",
       "      <td>No Reviews</td>\n",
       "      <td>1.0</td>\n",
       "    </tr>\n",
       "    <tr>\n",
       "      <th>7</th>\n",
       "      <td>2562510</td>\n",
       "      <td>13119459.0</td>\n",
       "      <td>10013</td>\n",
       "      <td>Apartment</td>\n",
       "      <td>Private room</td>\n",
       "      <td>2.0</td>\n",
       "      <td>1.0</td>\n",
       "      <td>1.0</td>\n",
       "      <td>1.0</td>\n",
       "      <td>Real Bed</td>\n",
       "      <td>120.0</td>\n",
       "      <td>2.0</td>\n",
       "      <td>5.0</td>\n",
       "      <td>0.0</td>\n",
       "      <td>No Reviews</td>\n",
       "      <td>1.0</td>\n",
       "    </tr>\n",
       "    <tr>\n",
       "      <th>8</th>\n",
       "      <td>3005360</td>\n",
       "      <td>4421803.0</td>\n",
       "      <td>10003</td>\n",
       "      <td>Apartment</td>\n",
       "      <td>Entire home/apt</td>\n",
       "      <td>4.0</td>\n",
       "      <td>1.0</td>\n",
       "      <td>2.0</td>\n",
       "      <td>2.0</td>\n",
       "      <td>Real Bed</td>\n",
       "      <td>150.0</td>\n",
       "      <td>1.0</td>\n",
       "      <td>30.0</td>\n",
       "      <td>14.0</td>\n",
       "      <td>95-100</td>\n",
       "      <td>4.0</td>\n",
       "    </tr>\n",
       "    <tr>\n",
       "      <th>9</th>\n",
       "      <td>2431607</td>\n",
       "      <td>4973668.0</td>\n",
       "      <td>11221</td>\n",
       "      <td>Apartment</td>\n",
       "      <td>Shared room</td>\n",
       "      <td>2.0</td>\n",
       "      <td>1.0</td>\n",
       "      <td>1.0</td>\n",
       "      <td>1.0</td>\n",
       "      <td>Real Bed</td>\n",
       "      <td>40.0</td>\n",
       "      <td>4.0</td>\n",
       "      <td>0.0</td>\n",
       "      <td>10.0</td>\n",
       "      <td>90-94</td>\n",
       "      <td>4.0</td>\n",
       "    </tr>\n",
       "    <tr>\n",
       "      <th>11</th>\n",
       "      <td>4833061</td>\n",
       "      <td>24879430.0</td>\n",
       "      <td>11221</td>\n",
       "      <td>Apartment</td>\n",
       "      <td>Private room</td>\n",
       "      <td>2.0</td>\n",
       "      <td>1.0</td>\n",
       "      <td>1.0</td>\n",
       "      <td>1.0</td>\n",
       "      <td>Real Bed</td>\n",
       "      <td>75.0</td>\n",
       "      <td>1.0</td>\n",
       "      <td>2.0</td>\n",
       "      <td>0.0</td>\n",
       "      <td>No Reviews</td>\n",
       "      <td>1.0</td>\n",
       "    </tr>\n",
       "    <tr>\n",
       "      <th>12</th>\n",
       "      <td>234327</td>\n",
       "      <td>652642.0</td>\n",
       "      <td>10018</td>\n",
       "      <td>Apartment</td>\n",
       "      <td>Shared room</td>\n",
       "      <td>4.0</td>\n",
       "      <td>1.0</td>\n",
       "      <td>1.0</td>\n",
       "      <td>4.0</td>\n",
       "      <td>Real Bed</td>\n",
       "      <td>80.0</td>\n",
       "      <td>3.0</td>\n",
       "      <td>30.0</td>\n",
       "      <td>7.0</td>\n",
       "      <td>80-84</td>\n",
       "      <td>25.0</td>\n",
       "    </tr>\n",
       "  </tbody>\n",
       "</table>\n",
       "</div>"
      ],
      "text/plain": [
       "         id     host_id zipcode property_type        room_type  accommodates  \\\n",
       "2   2061725   4601412.0   11221     Apartment     Private room           2.0   \n",
       "3     44974    198425.0   10011     Apartment  Entire home/apt           2.0   \n",
       "4   4701675  22590025.0   10011     Apartment  Entire home/apt           2.0   \n",
       "5     68914    343302.0   11231     Apartment  Entire home/apt           6.0   \n",
       "6   4832596   4148973.0   11207     Apartment     Private room           2.0   \n",
       "7   2562510  13119459.0   10013     Apartment     Private room           2.0   \n",
       "8   3005360   4421803.0   10003     Apartment  Entire home/apt           4.0   \n",
       "9   2431607   4973668.0   11221     Apartment      Shared room           2.0   \n",
       "11  4833061  24879430.0   11221     Apartment     Private room           2.0   \n",
       "12   234327    652642.0   10018     Apartment      Shared room           4.0   \n",
       "\n",
       "   bathrooms  bedrooms  beds  bed_type  price  minimum_nights availability_30  \\\n",
       "2        1.0       1.0   2.0  Real Bed   58.0             3.0             4.0   \n",
       "3        1.0       1.0   1.0  Real Bed  185.0            10.0             1.0   \n",
       "4        1.0       1.0   2.0  Real Bed  195.0             1.0            30.0   \n",
       "5        1.0       2.0   3.0  Real Bed  165.0             2.0            11.0   \n",
       "6        1.0       1.0   1.0  Real Bed   80.0             1.0            29.0   \n",
       "7        1.0       1.0   1.0  Real Bed  120.0             2.0             5.0   \n",
       "8        1.0       2.0   2.0  Real Bed  150.0             1.0            30.0   \n",
       "9        1.0       1.0   1.0  Real Bed   40.0             4.0             0.0   \n",
       "11       1.0       1.0   1.0  Real Bed   75.0             1.0             2.0   \n",
       "12       1.0       1.0   4.0  Real Bed   80.0             3.0            30.0   \n",
       "\n",
       "    number_of_reviews review_scores_rating  host_listing_count  \n",
       "2                35.0               95-100                 4.0  \n",
       "3                26.0               95-100                 1.0  \n",
       "4                 1.0               95-100                 1.0  \n",
       "5                16.0               95-100                 2.0  \n",
       "6                 0.0           No Reviews                 1.0  \n",
       "7                 0.0           No Reviews                 1.0  \n",
       "8                14.0               95-100                 4.0  \n",
       "9                10.0                90-94                 4.0  \n",
       "11                0.0           No Reviews                 1.0  \n",
       "12                7.0                80-84                25.0  "
      ]
     },
     "execution_count": 27,
     "metadata": {},
     "output_type": "execute_result"
    }
   ],
   "source": [
    "data.head(10)"
   ]
  },
  {
   "cell_type": "code",
   "execution_count": 28,
   "id": "cb7e7545",
   "metadata": {},
   "outputs": [
    {
     "name": "stdout",
     "output_type": "stream",
     "text": [
      "Num remaining records: 24048\n"
     ]
    }
   ],
   "source": [
    "print ('Num remaining records:', len(data))"
   ]
  },
  {
   "cell_type": "markdown",
   "id": "05ffed9b",
   "metadata": {},
   "source": [
    "### 9. Categorical Variable Encoding"
   ]
  },
  {
   "cell_type": "code",
   "execution_count": 29,
   "id": "25a5612a",
   "metadata": {},
   "outputs": [],
   "source": [
    "property_dummies = pd.get_dummies(data['property_type'])\n",
    "room_dummies = pd.get_dummies(data['room_type'])\n",
    "bed_dummies = pd.get_dummies(data['bed_type'])"
   ]
  },
  {
   "cell_type": "markdown",
   "id": "b19c2d57",
   "metadata": {},
   "source": [
    "### 10. Replace original columns with encoded columns"
   ]
  },
  {
   "cell_type": "code",
   "execution_count": 30,
   "id": "aee7642e",
   "metadata": {},
   "outputs": [
    {
     "name": "stdout",
     "output_type": "stream",
     "text": [
      "Number of Columns: 39\n"
     ]
    }
   ],
   "source": [
    "df = pd.concat((data.drop(['property_type', 'room_type', 'bed_type'], axis=1), \\\n",
    "     property_dummies.astype(int), room_dummies.astype(int), bed_dummies.astype(int)), \\\n",
    "     axis=1)\n",
    "\n",
    "print ('Number of Columns:', len(df.columns))"
   ]
  },
  {
   "cell_type": "markdown",
   "id": "c5869ae4",
   "metadata": {},
   "source": [
    "### 11. Move target predictor 'price' to end of df"
   ]
  },
  {
   "cell_type": "code",
   "execution_count": 31,
   "id": "ffb3e44b",
   "metadata": {},
   "outputs": [],
   "source": [
    "cols = list(df.columns.values)\n",
    "idx = cols.index('price')\n",
    "rearrange_cols = cols[:idx] + cols[idx+1:] + [cols[idx]]\n",
    "df = df[rearrange_cols]"
   ]
  },
  {
   "cell_type": "markdown",
   "id": "def86713",
   "metadata": {},
   "source": [
    "### 12. Convert numerical variables\n",
    " "
   ]
  },
  {
   "cell_type": "code",
   "execution_count": 32,
   "id": "916e3721",
   "metadata": {},
   "outputs": [],
   "source": [
    "# non-categorical variables need to be converted to float and also normalized\n",
    "def normalize(col):\n",
    "    mean = np.mean(col)\n",
    "    std = np.std(col)\n",
    "    return col.apply(lambda x: (x - mean) / std)\n",
    "\n",
    "non_cat_vars = ['accommodates', 'bedrooms', 'beds', 'number_of_reviews', 'host_listing_count', 'availability_30', 'minimum_nights', 'bathrooms']\n",
    "for col in non_cat_vars:\n",
    "    df[col] = df[col].astype(float)\n",
    "    df[col] = normalize(df[col])"
   ]
  },
  {
   "cell_type": "code",
   "execution_count": 33,
   "id": "f4b892f6",
   "metadata": {},
   "outputs": [
    {
     "data": {
      "text/html": [
       "<div>\n",
       "<style scoped>\n",
       "    .dataframe tbody tr th:only-of-type {\n",
       "        vertical-align: middle;\n",
       "    }\n",
       "\n",
       "    .dataframe tbody tr th {\n",
       "        vertical-align: top;\n",
       "    }\n",
       "\n",
       "    .dataframe thead th {\n",
       "        text-align: right;\n",
       "    }\n",
       "</style>\n",
       "<table border=\"1\" class=\"dataframe\">\n",
       "  <thead>\n",
       "    <tr style=\"text-align: right;\">\n",
       "      <th></th>\n",
       "      <th>id</th>\n",
       "      <th>host_id</th>\n",
       "      <th>zipcode</th>\n",
       "      <th>accommodates</th>\n",
       "      <th>bathrooms</th>\n",
       "      <th>bedrooms</th>\n",
       "      <th>beds</th>\n",
       "      <th>minimum_nights</th>\n",
       "      <th>availability_30</th>\n",
       "      <th>number_of_reviews</th>\n",
       "      <th>...</th>\n",
       "      <th>Villa</th>\n",
       "      <th>Entire home/apt</th>\n",
       "      <th>Private room</th>\n",
       "      <th>Shared room</th>\n",
       "      <th>Airbed</th>\n",
       "      <th>Couch</th>\n",
       "      <th>Futon</th>\n",
       "      <th>Pull-out Sofa</th>\n",
       "      <th>Real Bed</th>\n",
       "      <th>price</th>\n",
       "    </tr>\n",
       "  </thead>\n",
       "  <tbody>\n",
       "    <tr>\n",
       "      <th>2</th>\n",
       "      <td>2061725</td>\n",
       "      <td>4601412.0</td>\n",
       "      <td>11221</td>\n",
       "      <td>-0.520326</td>\n",
       "      <td>-0.331557</td>\n",
       "      <td>-0.407422</td>\n",
       "      <td>0.381619</td>\n",
       "      <td>0.173883</td>\n",
       "      <td>-0.965822</td>\n",
       "      <td>1.295848</td>\n",
       "      <td>...</td>\n",
       "      <td>0</td>\n",
       "      <td>0</td>\n",
       "      <td>1</td>\n",
       "      <td>0</td>\n",
       "      <td>0</td>\n",
       "      <td>0</td>\n",
       "      <td>0</td>\n",
       "      <td>0</td>\n",
       "      <td>1</td>\n",
       "      <td>58.0</td>\n",
       "    </tr>\n",
       "    <tr>\n",
       "      <th>3</th>\n",
       "      <td>44974</td>\n",
       "      <td>198425.0</td>\n",
       "      <td>10011</td>\n",
       "      <td>-0.520326</td>\n",
       "      <td>-0.331557</td>\n",
       "      <td>-0.407422</td>\n",
       "      <td>-0.493064</td>\n",
       "      <td>2.889416</td>\n",
       "      <td>-1.205164</td>\n",
       "      <td>0.822291</td>\n",
       "      <td>...</td>\n",
       "      <td>0</td>\n",
       "      <td>1</td>\n",
       "      <td>0</td>\n",
       "      <td>0</td>\n",
       "      <td>0</td>\n",
       "      <td>0</td>\n",
       "      <td>0</td>\n",
       "      <td>0</td>\n",
       "      <td>1</td>\n",
       "      <td>185.0</td>\n",
       "    </tr>\n",
       "    <tr>\n",
       "      <th>4</th>\n",
       "      <td>4701675</td>\n",
       "      <td>22590025.0</td>\n",
       "      <td>10011</td>\n",
       "      <td>-0.520326</td>\n",
       "      <td>-0.331557</td>\n",
       "      <td>-0.407422</td>\n",
       "      <td>0.381619</td>\n",
       "      <td>-0.601984</td>\n",
       "      <td>1.108477</td>\n",
       "      <td>-0.493144</td>\n",
       "      <td>...</td>\n",
       "      <td>0</td>\n",
       "      <td>1</td>\n",
       "      <td>0</td>\n",
       "      <td>0</td>\n",
       "      <td>0</td>\n",
       "      <td>0</td>\n",
       "      <td>0</td>\n",
       "      <td>0</td>\n",
       "      <td>1</td>\n",
       "      <td>195.0</td>\n",
       "    </tr>\n",
       "    <tr>\n",
       "      <th>5</th>\n",
       "      <td>68914</td>\n",
       "      <td>343302.0</td>\n",
       "      <td>11231</td>\n",
       "      <td>1.690806</td>\n",
       "      <td>-0.331557</td>\n",
       "      <td>1.266250</td>\n",
       "      <td>1.256302</td>\n",
       "      <td>-0.214051</td>\n",
       "      <td>-0.407357</td>\n",
       "      <td>0.296117</td>\n",
       "      <td>...</td>\n",
       "      <td>0</td>\n",
       "      <td>1</td>\n",
       "      <td>0</td>\n",
       "      <td>0</td>\n",
       "      <td>0</td>\n",
       "      <td>0</td>\n",
       "      <td>0</td>\n",
       "      <td>0</td>\n",
       "      <td>1</td>\n",
       "      <td>165.0</td>\n",
       "    </tr>\n",
       "    <tr>\n",
       "      <th>6</th>\n",
       "      <td>4832596</td>\n",
       "      <td>4148973.0</td>\n",
       "      <td>11207</td>\n",
       "      <td>-0.520326</td>\n",
       "      <td>-0.331557</td>\n",
       "      <td>-0.407422</td>\n",
       "      <td>-0.493064</td>\n",
       "      <td>-0.601984</td>\n",
       "      <td>1.028696</td>\n",
       "      <td>-0.545761</td>\n",
       "      <td>...</td>\n",
       "      <td>0</td>\n",
       "      <td>0</td>\n",
       "      <td>1</td>\n",
       "      <td>0</td>\n",
       "      <td>0</td>\n",
       "      <td>0</td>\n",
       "      <td>0</td>\n",
       "      <td>0</td>\n",
       "      <td>1</td>\n",
       "      <td>80.0</td>\n",
       "    </tr>\n",
       "  </tbody>\n",
       "</table>\n",
       "<p>5 rows × 39 columns</p>\n",
       "</div>"
      ],
      "text/plain": [
       "        id     host_id zipcode  accommodates  bathrooms  bedrooms      beds  \\\n",
       "2  2061725   4601412.0   11221     -0.520326  -0.331557 -0.407422  0.381619   \n",
       "3    44974    198425.0   10011     -0.520326  -0.331557 -0.407422 -0.493064   \n",
       "4  4701675  22590025.0   10011     -0.520326  -0.331557 -0.407422  0.381619   \n",
       "5    68914    343302.0   11231      1.690806  -0.331557  1.266250  1.256302   \n",
       "6  4832596   4148973.0   11207     -0.520326  -0.331557 -0.407422 -0.493064   \n",
       "\n",
       "   minimum_nights  availability_30  number_of_reviews  ... Villa  \\\n",
       "2        0.173883        -0.965822           1.295848  ...     0   \n",
       "3        2.889416        -1.205164           0.822291  ...     0   \n",
       "4       -0.601984         1.108477          -0.493144  ...     0   \n",
       "5       -0.214051        -0.407357           0.296117  ...     0   \n",
       "6       -0.601984         1.028696          -0.545761  ...     0   \n",
       "\n",
       "   Entire home/apt  Private room  Shared room  Airbed  Couch  Futon  \\\n",
       "2                0             1            0       0      0      0   \n",
       "3                1             0            0       0      0      0   \n",
       "4                1             0            0       0      0      0   \n",
       "5                1             0            0       0      0      0   \n",
       "6                0             1            0       0      0      0   \n",
       "\n",
       "   Pull-out Sofa  Real Bed  price  \n",
       "2              0         1   58.0  \n",
       "3              0         1  185.0  \n",
       "4              0         1  195.0  \n",
       "5              0         1  165.0  \n",
       "6              0         1   80.0  \n",
       "\n",
       "[5 rows x 39 columns]"
      ]
     },
     "execution_count": 33,
     "metadata": {},
     "output_type": "execute_result"
    }
   ],
   "source": [
    "df.head()"
   ]
  },
  {
   "cell_type": "code",
   "execution_count": 40,
   "id": "1f32aefe",
   "metadata": {},
   "outputs": [
    {
     "data": {
      "image/png": "[encoded data removed]",
      "text/plain": [
       "<Figure size 432x288 with 1 Axes>"
      ]
     },
     "metadata": {
      "needs_background": "light"
     },
     "output_type": "display_data"
    }
   ],
   "source": [
    "# visualize price distribution\n",
    "plt.hist(df['price'], bins=100, rwidth=0.7)\n",
    "plt.title(\"Histogram of Pricing\")\n",
    "plt.xlabel(\"Pricing (USD) Per Day\")\n",
    "plt.ylabel(\"Frequency\")\n",
    "plt.show()"
   ]
  },
  {
   "cell_type": "code",
   "execution_count": 43,
   "id": "a8ec2efd",
   "metadata": {},
   "outputs": [
    {
     "data": {
      "image/png": "[encoded data removed]",
      "text/plain": [
       "<Figure size 432x288 with 1 Axes>"
      ]
     },
     "metadata": {
      "needs_background": "light"
     },
     "output_type": "display_data"
    }
   ],
   "source": [
    "# Histogram indicates pricing is skewed\n",
    "# log transform 'price'\n",
    "df['price_log'] = df['price'].apply(lambda x: math.log(x))\n",
    "\n",
    "plt.hist(df['price_log'], bins=30, rwidth=0.7)\n",
    "plt.title(\"Histogram of Price Log-Transformed\")\n",
    "plt.xlabel(\"Pricing (USD) Per Day\")\n",
    "plt.ylabel(\"Frequency\")\n",
    "plt.show()"
   ]
  },
  {
   "cell_type": "code",
   "execution_count": 44,
   "id": "e4b74847",
   "metadata": {},
   "outputs": [
    {
     "data": {
      "image/png": "[encoded data removed]",
      "text/plain": [
       "<Figure size 432x288 with 1 Axes>"
      ]
     },
     "metadata": {
      "needs_background": "light"
     },
     "output_type": "display_data"
    }
   ],
   "source": [
    "# Plot for log-transformed pricing, show the similarity of normal distribution \n",
    "# Blue line is real data. Red line is normal distribution\n",
    "stats.probplot(df['price'], dist=\"norm\", plot=pylab)\n",
    "pylab.show()"
   ]
  },
  {
   "cell_type": "code",
   "execution_count": 45,
   "id": "7b6b1334",
   "metadata": {},
   "outputs": [
    {
     "data": {
      "image/png": "[encoded data removed]",
      "text/plain": [
       "<Figure size 432x288 with 1 Axes>"
      ]
     },
     "metadata": {
      "needs_background": "light"
     },
     "output_type": "display_data"
    }
   ],
   "source": [
    "# Plot for log-transformed price\n",
    "stats.probplot(df['price_log'], dist=\"norm\", plot=pylab)\n",
    "pylab.show()\n",
    "# This plot is closer to a normal distribution"
   ]
  },
  {
   "cell_type": "code",
   "execution_count": 46,
   "id": "3b93e71b",
   "metadata": {},
   "outputs": [],
   "source": [
    "# save cleaned data to csv\n",
    "df.to_csv('output.csv')"
   ]
  }
 ],
 "metadata": {
  "kernelspec": {
   "display_name": "Python 3 (ipykernel)",
   "language": "python",
   "name": "python3"
  },
  "language_info": {
   "codemirror_mode": {
    "name": "ipython",
    "version": 3
   },
   "file_extension": ".py",
   "mimetype": "text/x-python",
   "name": "python",
   "nbconvert_exporter": "python",
   "pygments_lexer": "ipython3",
   "version": "3.8.11"
  }
 },
 "nbformat": 4,
 "nbformat_minor": 5
}
